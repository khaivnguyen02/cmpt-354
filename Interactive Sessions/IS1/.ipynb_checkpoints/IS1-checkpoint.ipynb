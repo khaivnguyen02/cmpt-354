{
 "cells": [
  {
   "cell_type": "markdown",
   "metadata": {},
   "source": [
    "# Interactive Session (1)\n",
    "This Jupyter notebook is provided as a companion to help you practice your learnings in the class, and answer to the questions in the Interactive Session (1). You do not need this notebook in order to finish Interactive Session (1), but this is provided as a help for you to experiment before answering the questions.\n",
    "\n",
    "Please note that not all queries in the cells of this notebook are supposed to run properly. Some of them will fail and you are expected to find the reason for that."
   ]
  },
  {
   "cell_type": "markdown",
   "metadata": {},
   "source": [
    "## Initial Steps"
   ]
  },
  {
   "cell_type": "markdown",
   "metadata": {},
   "source": [
    "Please run the following few cells before we start. They create the required tables and insert some tuples so that we can start experimenting with them."
   ]
  },
  {
   "cell_type": "code",
   "execution_count": 1,
   "metadata": {},
   "outputs": [],
   "source": [
    "%load_ext sql"
   ]
  },
  {
   "cell_type": "code",
   "execution_count": 2,
   "metadata": {
    "scrolled": false
   },
   "outputs": [
    {
     "data": {
      "text/plain": [
       "'Connected: @is1.db'"
      ]
     },
     "execution_count": 2,
     "metadata": {},
     "output_type": "execute_result"
    }
   ],
   "source": [
    "%sql sqlite:///is1.db"
   ]
  },
  {
   "cell_type": "code",
   "execution_count": 5,
   "metadata": {
    "scrolled": false
   },
   "outputs": [
    {
     "name": "stdout",
     "output_type": "stream",
     "text": [
      " * sqlite:///is1.db\n",
      "(sqlite3.OperationalError) table Students already exists\n",
      "[SQL: CREATE TABLE Students (\n",
      "    sid CHAR(11),\n",
      "    name CHAR(20) NOT NULL,\n",
      "    school CHAR(10),\n",
      "    age INTEGER,\n",
      "    gpa REAL,\n",
      "    PRIMARY KEY (sid)\n",
      ");]\n",
      "(Background on this error at: https://sqlalche.me/e/14/e3q8)\n"
     ]
    }
   ],
   "source": [
    "%%sql\n",
    "CREATE TABLE Students (\n",
    "    sid CHAR(11),\n",
    "    name CHAR(20) NOT NULL,\n",
    "    school CHAR(10),\n",
    "    age INTEGER,\n",
    "    gpa REAL,\n",
    "    PRIMARY KEY (sid)\n",
    ");\n",
    "\n",
    "INSERT INTO students(sid, name, school, age, gpa)\n",
    "VALUES  ('1001', 'Aadm', 'SFU', 23, 3.2),\n",
    "        ('1002', 'Aiden', 'UBC', 19, 3.5),\n",
    "        ('1003', 'Alice', 'SFU', 18, 3.7),\n",
    "        ('1004', 'Bob', 'UBC', 22, 3.1),\n",
    "        ('1005', 'David', 'SFU', 20, 3.2),\n",
    "        ('1006', 'John', 'SFU', 21, 3.1),\n",
    "        ('1007', 'Mary', 'UBC', 21, 3.4),\n",
    "        ('1008', 'Mike', 'SFU', 24, 3.1),\n",
    "        ('1009', 'Sarah', 'UBC', 18, 3.0);\n",
    "\n",
    "SELECT * FROM students;"
   ]
  },
  {
   "cell_type": "code",
   "execution_count": null,
   "metadata": {},
   "outputs": [],
   "source": [
    "%%sql\n",
    "CREATE TABLE Enrolled(\n",
    "    stid CHAR(20),\n",
    "    cid CHAR(20),\n",
    "    grade CHAR(5),\n",
    "    PRIMARY KEY (stid, cid),\n",
    "    FOREIGN KEY (stid) REFERENCES Students(sid)\n",
    ");\n",
    "\n",
    "INSERT INTO Enrolled(stid, cid, grade)\n",
    "VALUES  ('1001', '200','A'),\n",
    "        ('1001', '295','A'),\n",
    "        ('1001', '250','B+'),\n",
    "        ('1002', '130','A'),\n",
    "        ('1002', '125','A+'),\n",
    "        ('1003', '120','A'),\n",
    "        ('1003', '125','B'),\n",
    "        ('1003', '150','A');\n",
    "\n",
    "SELECT * FROM Enrolled;"
   ]
  },
  {
   "cell_type": "markdown",
   "metadata": {},
   "source": [
    "### Null Values\n",
    "Before running each cell, try to analyze if it will succeed or fail, then confirm your answer with running the cell. Try to answer why for each of the scenarios."
   ]
  },
  {
   "cell_type": "code",
   "execution_count": null,
   "metadata": {},
   "outputs": [],
   "source": [
    "%%sql\n",
    "INSERT INTO Students(sid, name, school, age, gpa)\n",
    "VALUES  ('1010', '', 'SFU', 23, 3.2);\n",
    "\n",
    "SELECT * FROM Students;"
   ]
  },
  {
   "cell_type": "code",
   "execution_count": null,
   "metadata": {},
   "outputs": [],
   "source": [
    "%%sql\n",
    "INSERT INTO Students(sid, name, school, age)\n",
    "VALUES  ('1011', 'Caleb', 'SFU', 23);\n",
    "\n",
    "SELECT * FROM Students;"
   ]
  },
  {
   "cell_type": "code",
   "execution_count": null,
   "metadata": {},
   "outputs": [],
   "source": [
    "%%sql\n",
    "INSERT INTO Students(sid, school, age, gpa)\n",
    "VALUES  ('1012', 'SFU', 23, 3.4);\n",
    "\n",
    "SELECT * FROM Students;"
   ]
  },
  {
   "cell_type": "code",
   "execution_count": null,
   "metadata": {},
   "outputs": [],
   "source": [
    "%%sql\n",
    "INSERT INTO Students(sid, name, school, age, gpa)\n",
    "VALUES  ('1013', 0, 'SFU', 23, 3.4);\n",
    "\n",
    "SELECT * FROM Students;"
   ]
  },
  {
   "cell_type": "code",
   "execution_count": null,
   "metadata": {},
   "outputs": [],
   "source": [
    "%%sql\n",
    "INSERT INTO Students(sid, name, school, age, gpa)\n",
    "VALUES  ('1014', NULL, 'SFU', 23, 3.2);\n",
    "\n",
    "SELECT * FROM Students;"
   ]
  },
  {
   "cell_type": "code",
   "execution_count": null,
   "metadata": {},
   "outputs": [],
   "source": [
    "%%sql\n",
    "UPDATE Students SET name='Nikita' WHERE sid=1013;\n",
    "\n",
    "SELECT * FROM Students;"
   ]
  },
  {
   "cell_type": "code",
   "execution_count": null,
   "metadata": {},
   "outputs": [],
   "source": [
    "%%sql\n",
    "UPDATE Students SET name=NULL WHERE sid=1013;\n",
    "\n",
    "SELECT * FROM Students;"
   ]
  },
  {
   "cell_type": "markdown",
   "metadata": {},
   "source": [
    "### Key Constraints\n",
    "What do you think about the next query?"
   ]
  },
  {
   "cell_type": "code",
   "execution_count": null,
   "metadata": {},
   "outputs": [],
   "source": [
    "%%sql\n",
    "INSERT INTO Students(sid, name, school, age, gpa)\n",
    "VALUES  (NULL, 'Adam', 'SFU', 23, 3.2);\n",
    "\n",
    "SELECT * FROM Students;"
   ]
  },
  {
   "cell_type": "markdown",
   "metadata": {},
   "source": [
    "Did you expect the outcome? Can you explain what happened?\n",
    "\n",
    "Now, using the queries below, drop the Students and Enrolled tables and create them again using the \"WITHOUT ROWID\" Option, and try the same command again (given for you again below)."
   ]
  },
  {
   "cell_type": "code",
   "execution_count": null,
   "metadata": {},
   "outputs": [],
   "source": [
    "%%sql\n",
    "DROP TABLE Students;\n",
    "CREATE TABLE Students (\n",
    "    sid CHAR(11),\n",
    "    name CHAR(20) NOT NULL,\n",
    "    school CHAR(10),\n",
    "    age INTEGER,\n",
    "    gpa REAL,\n",
    "    PRIMARY KEY (sid)\n",
    ") WITHOUT ROWID;\n",
    "\n",
    "INSERT INTO students(sid, name, school, age, gpa)\n",
    "VALUES  ('1001', 'Aadm', 'SFU', 23, 3.2),\n",
    "        ('1002', 'Aiden', 'UBC', 19, 3.5),\n",
    "        ('1003', 'Alice', 'SFU', 18, 3.7),\n",
    "        ('1004', 'Bob', 'UBC', 22, 3.1),\n",
    "        ('1005', 'David', 'SFU', 20, 3.2),\n",
    "        ('1006', 'John', 'SFU', 21, 3.1),\n",
    "        ('1007', 'Mary', 'UBC', 21, 3.4),\n",
    "        ('1008', 'Mike', 'SFU', 24, 3.1),\n",
    "        ('1009', 'Sarah', 'UBC', 18, 3.0);\n",
    "\n",
    "SELECT * FROM students;"
   ]
  },
  {
   "cell_type": "code",
   "execution_count": null,
   "metadata": {},
   "outputs": [],
   "source": [
    "%%sql\n",
    "DROP TABLE Enrolled;\n",
    "\n",
    "CREATE TABLE Enrolled (\n",
    "    stid CHAR(20),\n",
    "    cid CHAR(20),\n",
    "    grade CHAR(5),\n",
    "    PRIMARY KEY (stid, cid),\n",
    "    FOREIGN KEY (stid) REFERENCES Students(sid)\n",
    ")WITHOUT ROWID;\n",
    "\n",
    "INSERT INTO Enrolled(stid, cid, grade)\n",
    "VALUES  ('1001', '200','A'),\n",
    "        ('1001', '295','A'),\n",
    "        ('1001', '250','B+'),\n",
    "        ('1002', '130','A'),\n",
    "        ('1002', '125','A+'),\n",
    "        ('1003', '120','A'),\n",
    "        ('1003', '125','B'),\n",
    "        ('1003', '150','A');\n",
    "\n",
    "SELECT * FROM Enrolled;"
   ]
  },
  {
   "cell_type": "code",
   "execution_count": null,
   "metadata": {},
   "outputs": [],
   "source": [
    "%%sql\n",
    "INSERT INTO Students(sid, name, school, age, gpa)\n",
    "VALUES  (NULL, 'Adam', 'SFU', 23, 3.2);\n",
    "\n",
    "SELECT * FROM Students;"
   ]
  },
  {
   "cell_type": "markdown",
   "metadata": {},
   "source": [
    "The reason for this observation is that SQLite (for backward compatibility [reasons](https://www.sqlitetutorial.net/sqlite-primary-key/))  creates a rowid for each entry in the table and as the rowid is unique, it allows NULL values for members of the primary key. Therefore, if you need to enforce the implied NOT NULL for your primary key, you need to use WITHOUT ROWID when creating your tables."
   ]
  },
  {
   "cell_type": "markdown",
   "metadata": {},
   "source": [
    "### Using IS\n",
    "We learned in class that you can use 'IS' to check if a value is 'NULL' or 'NOT NULL'. We can use IS in a few other ways as well, some are only possible in SQLite. "
   ]
  },
  {
   "cell_type": "code",
   "execution_count": null,
   "metadata": {},
   "outputs": [],
   "source": [
    "%%sql\n",
    "UPDATE Students SET gpa=NULL WHERE sid=1009;"
   ]
  },
  {
   "cell_type": "code",
   "execution_count": null,
   "metadata": {},
   "outputs": [],
   "source": [
    "%%sql\n",
    "SELECT * FROM Students;"
   ]
  },
  {
   "cell_type": "code",
   "execution_count": null,
   "metadata": {},
   "outputs": [],
   "source": [
    "%%sql\n",
    "SELECT * FROM Students WHERE gpa=NULL;"
   ]
  },
  {
   "cell_type": "code",
   "execution_count": null,
   "metadata": {},
   "outputs": [],
   "source": [
    "%%sql\n",
    "SELECT * FROM Students WHERE gpa IS NULL;"
   ]
  },
  {
   "cell_type": "code",
   "execution_count": null,
   "metadata": {},
   "outputs": [],
   "source": [
    "%%sql\n",
    "SELECT * FROM Students WHERE gpa=NOT NULL;"
   ]
  },
  {
   "cell_type": "code",
   "execution_count": null,
   "metadata": {},
   "outputs": [],
   "source": [
    "%%sql\n",
    "SELECT * FROM Students WHERE gpa IS NOT NULL;"
   ]
  },
  {
   "cell_type": "markdown",
   "metadata": {},
   "source": [
    "In standard SQL, 'IS' can also be used to compare BOOLEAN values. The same situation holds for SQLight. This is demonstrated below."
   ]
  },
  {
   "cell_type": "code",
   "execution_count": null,
   "metadata": {},
   "outputs": [],
   "source": [
    "%%sql\n",
    "CREATE TABLE WorksByDefaultInSQLite(\n",
    "    command CHAR(20),\n",
    "    flag BOOLEAN\n",
    ");\n",
    "INSERT INTO WorksByDefaultInSQLite(command, flag)\n",
    "VALUES  ('IS', TRUE),\n",
    "        ('RefIntegrity', FALSE);\n",
    "    \n",
    "SELECT * FROM WorksByDefaultInSQLite;"
   ]
  },
  {
   "cell_type": "code",
   "execution_count": null,
   "metadata": {},
   "outputs": [],
   "source": [
    "%%sql\n",
    "SELECT * FROM WorksByDefaultInSQLite WHERE flag IS TRUE;"
   ]
  },
  {
   "cell_type": "code",
   "execution_count": null,
   "metadata": {},
   "outputs": [],
   "source": [
    "%%sql\n",
    "SELECT * FROM WorksByDefaultInSQLite WHERE flag IS FALSE;"
   ]
  },
  {
   "cell_type": "markdown",
   "metadata": {},
   "source": [
    " In SQLite, 'IS' can also be used instead of '=' for some other data types (This behavior is not standard SQL)."
   ]
  },
  {
   "cell_type": "code",
   "execution_count": null,
   "metadata": {},
   "outputs": [],
   "source": [
    "%%sql\n",
    "SELECT * FROM Students WHERE name IS 'Aadm';"
   ]
  },
  {
   "cell_type": "code",
   "execution_count": null,
   "metadata": {},
   "outputs": [],
   "source": [
    "%%sql\n",
    "SELECT * FROM Students WHERE gpa IS 3.1;"
   ]
  },
  {
   "cell_type": "markdown",
   "metadata": {},
   "source": [
    "### Referential Integrity\n",
    "Remembring our discussions about Referential Integrity and Foriegn Key Constraints, let's try the following experiments. "
   ]
  },
  {
   "cell_type": "code",
   "execution_count": null,
   "metadata": {},
   "outputs": [],
   "source": [
    "%%sql\n",
    "DROP TABLE Students;"
   ]
  },
  {
   "cell_type": "code",
   "execution_count": null,
   "metadata": {},
   "outputs": [],
   "source": [
    "%%sql\n",
    "CREATE TABLE Students (\n",
    "    sid CHAR(11),\n",
    "    name CHAR(20) NOT NULL,\n",
    "    school CHAR(10),\n",
    "    age INTEGER,\n",
    "    gpa REAL,\n",
    "    PRIMARY KEY (sid)\n",
    ") WITHOUT ROWID;\n",
    "\n",
    "INSERT INTO students(sid, name, school, age, gpa)\n",
    "VALUES  ('1001', 'Adam', 'SFU', 23, 3.2),\n",
    "        ('1002', 'Aiden', 'SFU', 19, 3.1);\n",
    "\n",
    "SELECT * FROM students;\n"
   ]
  },
  {
   "cell_type": "code",
   "execution_count": null,
   "metadata": {},
   "outputs": [],
   "source": [
    "%%sql\n",
    "DROP TABLE Enrolled;\n",
    "CREATE TABLE Enrolled(\n",
    "    stid CHAR(20),\n",
    "    cid CHAR(20),\n",
    "    grade CHAR(5),\n",
    "    PRIMARY KEY (stid, cid),\n",
    "    FOREIGN KEY (stid) REFERENCES Students(sid)\n",
    ")WITHOUT ROWID;\n",
    "\n",
    "INSERT INTO Enrolled(stid, cid, grade)\n",
    "VALUES  ('1001', '200','A'),\n",
    "        ('1001', '295','A'),\n",
    "        ('1001', '250','B+'),\n",
    "        ('1002', '250','A');\n",
    "\n",
    "SELECT * FROM Enrolled;"
   ]
  },
  {
   "cell_type": "code",
   "execution_count": null,
   "metadata": {},
   "outputs": [],
   "source": [
    "%%sql\n",
    "DELETE FROM Students WHERE sid='1002';"
   ]
  },
  {
   "cell_type": "code",
   "execution_count": null,
   "metadata": {},
   "outputs": [],
   "source": [
    "%%sql\n",
    "SELECT * FROM Students;"
   ]
  },
  {
   "cell_type": "code",
   "execution_count": null,
   "metadata": {},
   "outputs": [],
   "source": [
    "%%sql\n",
    "SELECT * FROM Enrolled;"
   ]
  },
  {
   "cell_type": "markdown",
   "metadata": {},
   "source": [
    "Did that surprise you? We still have stid 1002 in our Enrolled table!\n",
    "You can even drop the whole table that is referenced (as shown below)!"
   ]
  },
  {
   "cell_type": "code",
   "execution_count": null,
   "metadata": {},
   "outputs": [],
   "source": [
    "%%sql\n",
    "DROP TABLE Students;"
   ]
  },
  {
   "cell_type": "code",
   "execution_count": null,
   "metadata": {},
   "outputs": [],
   "source": [
    "%%sql\n",
    "SELECT * FROM Enrolled;"
   ]
  },
  {
   "cell_type": "markdown",
   "metadata": {},
   "source": [
    "The reason you can delete a key that is referenced by table Enrolled from table Students, and even drop table Students while it is referenced by Enrolled is that SQLite does not enforce referential integrity by default. You need to enable enforcing referential integrity using 'PRAGMA foreign_keys=1;'. "
   ]
  },
  {
   "cell_type": "code",
   "execution_count": null,
   "metadata": {},
   "outputs": [],
   "source": [
    "%%sql\n",
    "PRAGMA foreign_keys=1;"
   ]
  },
  {
   "cell_type": "code",
   "execution_count": null,
   "metadata": {},
   "outputs": [],
   "source": [
    "%%sql\n",
    "DROP TABLE Enrolled;"
   ]
  },
  {
   "cell_type": "code",
   "execution_count": null,
   "metadata": {},
   "outputs": [],
   "source": [
    "%%sql\n",
    "CREATE TABLE Students (\n",
    "    sid CHAR(11),\n",
    "    name CHAR(20) NOT NULL,\n",
    "    school CHAR(10),\n",
    "    age INTEGER,\n",
    "    gpa REAL,\n",
    "    PRIMARY KEY (sid)\n",
    ") WITHOUT ROWID;\n",
    "\n",
    "INSERT INTO students(sid, name, school, age, gpa)\n",
    "VALUES  ('1001', 'Adam', 'SFU', 23, 3.2),\n",
    "        ('1002', 'Aiden', 'SFU', 19, 3.1);\n",
    "\n",
    "SELECT * FROM students;"
   ]
  },
  {
   "cell_type": "code",
   "execution_count": null,
   "metadata": {},
   "outputs": [],
   "source": [
    "%%sql\n",
    "CREATE TABLE Enrolled(\n",
    "    stid CHAR(20),\n",
    "    cid CHAR(20),\n",
    "    grade CHAR(5),\n",
    "    PRIMARY KEY (stid, cid),\n",
    "    FOREIGN KEY (stid) REFERENCES Students(sid)\n",
    ")WITHOUT ROWID;\n",
    "\n",
    "INSERT INTO Enrolled(stid, cid, grade)\n",
    "VALUES  ('1001', '200','A'),\n",
    "        ('1001', '295','A'),\n",
    "        ('1001', '250','B+'),\n",
    "        ('1002', '250','A');\n",
    "\n",
    "SELECT * FROM Enrolled;"
   ]
  },
  {
   "cell_type": "code",
   "execution_count": null,
   "metadata": {},
   "outputs": [],
   "source": [
    "%%sql\n",
    "DELETE FROM Students WHERE sid='1002';"
   ]
  },
  {
   "cell_type": "markdown",
   "metadata": {},
   "source": [
    "Now, let's see what happens if we use 'ON DELETE CASCADE'?"
   ]
  },
  {
   "cell_type": "markdown",
   "metadata": {},
   "source": [
    "#### ON DELETE CASCADE"
   ]
  },
  {
   "cell_type": "code",
   "execution_count": null,
   "metadata": {},
   "outputs": [],
   "source": [
    "%%sql\n",
    "DROP TABLE Enrolled;"
   ]
  },
  {
   "cell_type": "code",
   "execution_count": null,
   "metadata": {},
   "outputs": [],
   "source": [
    "%%sql\n",
    "DROP TABLE Students;"
   ]
  },
  {
   "cell_type": "markdown",
   "metadata": {},
   "source": [
    "Note that there will be no change in creation of table Students:"
   ]
  },
  {
   "cell_type": "code",
   "execution_count": null,
   "metadata": {},
   "outputs": [],
   "source": [
    "%%sql\n",
    "CREATE TABLE Students (\n",
    "    sid CHAR(11),\n",
    "    name CHAR(20) NOT NULL,\n",
    "    school CHAR(10),\n",
    "    age INTEGER,\n",
    "    gpa REAL,\n",
    "    PRIMARY KEY (sid)\n",
    ") WITHOUT ROWID;\n",
    "\n",
    "INSERT INTO students(sid, name, school, age, gpa)\n",
    "VALUES  ('1001', 'Adam', 'SFU', 23, 3.2),\n",
    "        ('1002', 'Aiden', 'SFU', 19, 3.1);\n",
    "\n",
    "SELECT * FROM students;"
   ]
  },
  {
   "cell_type": "markdown",
   "metadata": {},
   "source": [
    "But we include 'ON DELETE CASCADE' in creation of table Enrolled:"
   ]
  },
  {
   "cell_type": "code",
   "execution_count": null,
   "metadata": {},
   "outputs": [],
   "source": [
    "%%sql\n",
    "CREATE TABLE Enrolled(\n",
    "    stid CHAR(20),\n",
    "    cid CHAR(20),\n",
    "    grade CHAR(5),\n",
    "    PRIMARY KEY (stid, cid),\n",
    "    FOREIGN KEY (stid) REFERENCES Students(sid)\n",
    "    ON DELETE CASCADE\n",
    ")WITHOUT ROWID;\n",
    "\n",
    "INSERT INTO Enrolled(stid, cid, grade)\n",
    "VALUES  ('1001', '200','A'),\n",
    "        ('1001', '295','A'),\n",
    "        ('1001', '250','B+'),\n",
    "        ('1002', '250','A');\n",
    "\n",
    "SELECT * FROM Enrolled;"
   ]
  },
  {
   "cell_type": "markdown",
   "metadata": {},
   "source": [
    "Now let's see what happens when we delete a row from Students that is referenced by Enrolled:"
   ]
  },
  {
   "cell_type": "code",
   "execution_count": null,
   "metadata": {},
   "outputs": [],
   "source": [
    "%%sql\n",
    "SELECT * FROM students;"
   ]
  },
  {
   "cell_type": "code",
   "execution_count": null,
   "metadata": {},
   "outputs": [],
   "source": [
    "%%sql\n",
    "SELECT * FROM Enrolled;"
   ]
  },
  {
   "cell_type": "code",
   "execution_count": null,
   "metadata": {},
   "outputs": [],
   "source": [
    "%%sql\n",
    "DELETE FROM Students WHERE sid='1002';"
   ]
  },
  {
   "cell_type": "code",
   "execution_count": null,
   "metadata": {},
   "outputs": [],
   "source": [
    "%%sql\n",
    "SELECT * FROM Enrolled;"
   ]
  },
  {
   "cell_type": "code",
   "execution_count": null,
   "metadata": {},
   "outputs": [],
   "source": [
    "%%sql\n",
    "SELECT * FROM Students;"
   ]
  },
  {
   "cell_type": "markdown",
   "metadata": {},
   "source": [
    "Was it what you expected?\n",
    "\n",
    "Now let's try and see what happens when we use 'ON DELETE SET NULL'."
   ]
  },
  {
   "cell_type": "markdown",
   "metadata": {},
   "source": [
    "#### ON DELETE SET NULL"
   ]
  },
  {
   "cell_type": "code",
   "execution_count": null,
   "metadata": {},
   "outputs": [],
   "source": [
    "%%sql\n",
    "DROP TABLE Enrolled;"
   ]
  },
  {
   "cell_type": "code",
   "execution_count": null,
   "metadata": {},
   "outputs": [],
   "source": [
    "%%sql\n",
    "DROP TABLE Students;"
   ]
  },
  {
   "cell_type": "code",
   "execution_count": null,
   "metadata": {},
   "outputs": [],
   "source": [
    "%%sql\n",
    "CREATE TABLE Students (\n",
    "    sid CHAR(11),\n",
    "    name CHAR(20) NOT NULL,\n",
    "    school CHAR(10),\n",
    "    age INTEGER,\n",
    "    gpa REAL,\n",
    "    PRIMARY KEY (sid)\n",
    ") WITHOUT ROWID;\n",
    "\n",
    "INSERT INTO students(sid, name, school, age, gpa)\n",
    "VALUES  ('1001', 'Adam', 'SFU', 23, 3.2),\n",
    "        ('1002', 'Aiden', 'SFU', 19, 3.1);\n",
    "\n",
    "SELECT * FROM students;"
   ]
  },
  {
   "cell_type": "code",
   "execution_count": null,
   "metadata": {},
   "outputs": [],
   "source": [
    "%%sql\n",
    "CREATE TABLE Enrolled(\n",
    "    stid CHAR(20),\n",
    "    cid CHAR(20),\n",
    "    grade CHAR(5),\n",
    "    PRIMARY KEY (stid, cid),\n",
    "    FOREIGN KEY (stid) REFERENCES Students(sid)\n",
    "    ON DELETE SET NULL\n",
    ")WITHOUT ROWID;\n",
    "\n",
    "INSERT INTO Enrolled(stid, cid, grade)\n",
    "VALUES  ('1001', '200','A'),\n",
    "        ('1001', '295','A'),\n",
    "        ('1001', '250','B+'),\n",
    "        ('1002', '250','A');\n",
    "\n",
    "SELECT * FROM Enrolled;"
   ]
  },
  {
   "cell_type": "code",
   "execution_count": null,
   "metadata": {},
   "outputs": [],
   "source": [
    "%%sql\n",
    "DELETE FROM Students WHERE sid='1002';"
   ]
  },
  {
   "cell_type": "markdown",
   "metadata": {},
   "source": [
    "Now let's see what would have happened if the stid was not part of the 'PARIMARY KEY' of table Enrolled?"
   ]
  },
  {
   "cell_type": "code",
   "execution_count": null,
   "metadata": {},
   "outputs": [],
   "source": [
    "%%sql\n",
    "DROP TABLE Enrolled;"
   ]
  },
  {
   "cell_type": "code",
   "execution_count": null,
   "metadata": {},
   "outputs": [],
   "source": [
    "%%sql\n",
    "CREATE TABLE Enrolled(\n",
    "    stid CHAR(20),\n",
    "    cid CHAR(20),\n",
    "    grade CHAR(5),\n",
    "    PRIMARY KEY (cid),\n",
    "    FOREIGN KEY (stid) REFERENCES Students(sid)\n",
    "    ON DELETE SET NULL\n",
    ")WITHOUT ROWID;\n",
    "\n",
    "INSERT INTO Enrolled(stid, cid, grade)\n",
    "VALUES  ('1001', '200','A'),\n",
    "        ('1001', '295','A'),\n",
    "        ('1001', '250','B+'),\n",
    "        ('1002', '260','A');\n",
    "\n",
    "SELECT * FROM Enrolled;"
   ]
  },
  {
   "cell_type": "code",
   "execution_count": null,
   "metadata": {},
   "outputs": [],
   "source": [
    "%%sql\n",
    "DELETE FROM Students WHERE sid='1002';"
   ]
  },
  {
   "cell_type": "code",
   "execution_count": null,
   "metadata": {},
   "outputs": [],
   "source": [
    "%%sql\n",
    "SELECT * FROM Enrolled;"
   ]
  },
  {
   "cell_type": "markdown",
   "metadata": {},
   "source": [
    "The reason the deletion in the previous 'ON DELETE SET NULL' example failed was that stid which would be SET NULL as a result of query \"DELETE FROM Students WHERE sid='1002';\" is part of the 'PRIMARY KEY' in Enrolled table. 'PRIMARY KEY' constraints imply 'NOT NULL' on all attributes that are member of the key."
   ]
  },
  {
   "cell_type": "markdown",
   "metadata": {},
   "source": [
    "### Clean up Steps"
   ]
  },
  {
   "cell_type": "code",
   "execution_count": null,
   "metadata": {},
   "outputs": [],
   "source": [
    "%%sql\n",
    "DROP TABLE Enrolled;\n",
    "DROP TABLE Students;\n",
    "DROP TABLE WorksByDefaultInSQLite;"
   ]
  },
  {
   "cell_type": "code",
   "execution_count": null,
   "metadata": {},
   "outputs": [],
   "source": []
  },
  {
   "cell_type": "code",
   "execution_count": null,
   "metadata": {},
   "outputs": [],
   "source": []
  }
 ],
 "metadata": {
  "kernelspec": {
   "display_name": "Python 3 (ipykernel)",
   "language": "python",
   "name": "python3"
  },
  "language_info": {
   "codemirror_mode": {
    "name": "ipython",
    "version": 3
   },
   "file_extension": ".py",
   "mimetype": "text/x-python",
   "name": "python",
   "nbconvert_exporter": "python",
   "pygments_lexer": "ipython3",
   "version": "3.10.9"
  }
 },
 "nbformat": 4,
 "nbformat_minor": 2
}
