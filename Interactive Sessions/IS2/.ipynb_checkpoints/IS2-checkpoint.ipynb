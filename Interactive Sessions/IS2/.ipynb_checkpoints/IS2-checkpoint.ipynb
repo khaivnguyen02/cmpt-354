{
 "cells": [
  {
   "cell_type": "markdown",
   "metadata": {},
   "source": [
    "# Interactive Session (2)\n",
    "This Jupyter notebook is provided as a companion to help you practice your learnings in the class, and answer to the questions in the Interactive Session (2). You do not need this notebook in order to finish Interactive Session (2), but this is provided as a help for you to experiment before answering the questions.\n",
    "\n",
    "Please note that not all queries in the cells of this notebook are supposed to run properly. Some of them will fail and you are expected to find the reason for that."
   ]
  },
  {
   "cell_type": "markdown",
   "metadata": {},
   "source": [
    "## Initial Steps"
   ]
  },
  {
   "cell_type": "markdown",
   "metadata": {},
   "source": [
    "Please run the following few cells before we start. They create the required tables and insert some tuples so that we can start experimenting with them."
   ]
  },
  {
   "cell_type": "code",
   "execution_count": 1,
   "metadata": {},
   "outputs": [],
   "source": [
    "%load_ext sql"
   ]
  },
  {
   "cell_type": "code",
   "execution_count": 2,
   "metadata": {
    "scrolled": false
   },
   "outputs": [
    {
     "data": {
      "text/plain": [
       "'Connected: @is2.db'"
      ]
     },
     "execution_count": 2,
     "metadata": {},
     "output_type": "execute_result"
    }
   ],
   "source": [
    "%sql sqlite:///is2.db"
   ]
  },
  {
   "cell_type": "code",
   "execution_count": 3,
   "metadata": {
    "scrolled": false
   },
   "outputs": [
    {
     "name": "stdout",
     "output_type": "stream",
     "text": [
      " * sqlite:///is2.db\n",
      "Done.\n"
     ]
    },
    {
     "data": {
      "text/plain": [
       "[]"
      ]
     },
     "execution_count": 3,
     "metadata": {},
     "output_type": "execute_result"
    }
   ],
   "source": [
    "%%sql\n",
    "CREATE TABLE Students (\n",
    "    sid CHAR(11),\n",
    "    name CHAR(20) NOT NULL,\n",
    "    school CHAR(10),\n",
    "    age INTEGER,\n",
    "    gpa REAL,\n",
    "    PRIMARY KEY (sid)\n",
    ");"
   ]
  },
  {
   "cell_type": "code",
   "execution_count": 4,
   "metadata": {},
   "outputs": [
    {
     "name": "stdout",
     "output_type": "stream",
     "text": [
      " * sqlite:///is2.db\n",
      "Done.\n"
     ]
    },
    {
     "data": {
      "text/plain": [
       "[]"
      ]
     },
     "execution_count": 4,
     "metadata": {},
     "output_type": "execute_result"
    }
   ],
   "source": [
    "%%sql\n",
    "CREATE TABLE Enrolled(\n",
    "    stid CHAR(20),\n",
    "    cid CHAR(20),\n",
    "    grade CHAR(5),\n",
    "    PRIMARY KEY (stid, cid),\n",
    "    FOREIGN KEY (stid) REFERENCES Students(sid)\n",
    ");"
   ]
  },
  {
   "cell_type": "markdown",
   "metadata": {},
   "source": [
    "### Inner Join"
   ]
  },
  {
   "cell_type": "code",
   "execution_count": 5,
   "metadata": {},
   "outputs": [
    {
     "name": "stdout",
     "output_type": "stream",
     "text": [
      " * sqlite:///is2.db\n",
      "8 rows affected.\n",
      "Done.\n"
     ]
    },
    {
     "data": {
      "text/html": [
       "<table>\n",
       "    <thead>\n",
       "        <tr>\n",
       "            <th>sid</th>\n",
       "            <th>name</th>\n",
       "            <th>school</th>\n",
       "            <th>age</th>\n",
       "            <th>gpa</th>\n",
       "        </tr>\n",
       "    </thead>\n",
       "    <tbody>\n",
       "        <tr>\n",
       "            <td>1002</td>\n",
       "            <td>Aiden</td>\n",
       "            <td>UBC</td>\n",
       "            <td>19</td>\n",
       "            <td>3.5</td>\n",
       "        </tr>\n",
       "        <tr>\n",
       "            <td>1003</td>\n",
       "            <td>Alice</td>\n",
       "            <td>SFU</td>\n",
       "            <td>18</td>\n",
       "            <td>3.7</td>\n",
       "        </tr>\n",
       "        <tr>\n",
       "            <td>1004</td>\n",
       "            <td>Bob</td>\n",
       "            <td>UBC</td>\n",
       "            <td>22</td>\n",
       "            <td>3.1</td>\n",
       "        </tr>\n",
       "        <tr>\n",
       "            <td>1005</td>\n",
       "            <td>David</td>\n",
       "            <td>SFU</td>\n",
       "            <td>20</td>\n",
       "            <td>3.2</td>\n",
       "        </tr>\n",
       "        <tr>\n",
       "            <td>1006</td>\n",
       "            <td>John</td>\n",
       "            <td>SFU</td>\n",
       "            <td>21</td>\n",
       "            <td>3.1</td>\n",
       "        </tr>\n",
       "        <tr>\n",
       "            <td>1007</td>\n",
       "            <td>Mary</td>\n",
       "            <td>UBC</td>\n",
       "            <td>21</td>\n",
       "            <td>3.4</td>\n",
       "        </tr>\n",
       "        <tr>\n",
       "            <td>1008</td>\n",
       "            <td>Mike</td>\n",
       "            <td>SFU</td>\n",
       "            <td>24</td>\n",
       "            <td>3.1</td>\n",
       "        </tr>\n",
       "        <tr>\n",
       "            <td>1009</td>\n",
       "            <td>Sarah</td>\n",
       "            <td>UBC</td>\n",
       "            <td>18</td>\n",
       "            <td>3.0</td>\n",
       "        </tr>\n",
       "    </tbody>\n",
       "</table>"
      ],
      "text/plain": [
       "[('1002', 'Aiden', 'UBC', 19, 3.5),\n",
       " ('1003', 'Alice', 'SFU', 18, 3.7),\n",
       " ('1004', 'Bob', 'UBC', 22, 3.1),\n",
       " ('1005', 'David', 'SFU', 20, 3.2),\n",
       " ('1006', 'John', 'SFU', 21, 3.1),\n",
       " ('1007', 'Mary', 'UBC', 21, 3.4),\n",
       " ('1008', 'Mike', 'SFU', 24, 3.1),\n",
       " ('1009', 'Sarah', 'UBC', 18, 3.0)]"
      ]
     },
     "execution_count": 5,
     "metadata": {},
     "output_type": "execute_result"
    }
   ],
   "source": [
    "%%sql \n",
    "INSERT INTO Students(sid, name, school, age, gpa)\n",
    "VALUES  ('1002', 'Aiden', 'UBC', 19, 3.5),\n",
    "        ('1003', 'Alice', 'SFU', 18, 3.7),\n",
    "        ('1004', 'Bob', 'UBC', 22, 3.1),\n",
    "        ('1005', 'David', 'SFU', 20, 3.2),\n",
    "        ('1006', 'John', 'SFU', 21, 3.1),\n",
    "        ('1007', 'Mary', 'UBC', 21, 3.4),\n",
    "        ('1008', 'Mike', 'SFU', 24, 3.1),\n",
    "        ('1009', 'Sarah', 'UBC', 18, 3.0);\n",
    "        \n",
    "SELECT * FROM Students"
   ]
  },
  {
   "cell_type": "code",
   "execution_count": 6,
   "metadata": {},
   "outputs": [
    {
     "name": "stdout",
     "output_type": "stream",
     "text": [
      " * sqlite:///is2.db\n",
      "3 rows affected.\n",
      "Done.\n"
     ]
    },
    {
     "data": {
      "text/html": [
       "<table>\n",
       "    <thead>\n",
       "        <tr>\n",
       "            <th>stid</th>\n",
       "            <th>cid</th>\n",
       "            <th>grade</th>\n",
       "        </tr>\n",
       "    </thead>\n",
       "    <tbody>\n",
       "        <tr>\n",
       "            <td>1003</td>\n",
       "            <td>120</td>\n",
       "            <td>A</td>\n",
       "        </tr>\n",
       "        <tr>\n",
       "            <td>1003</td>\n",
       "            <td>125</td>\n",
       "            <td>B</td>\n",
       "        </tr>\n",
       "        <tr>\n",
       "            <td>1003</td>\n",
       "            <td>150</td>\n",
       "            <td>A</td>\n",
       "        </tr>\n",
       "    </tbody>\n",
       "</table>"
      ],
      "text/plain": [
       "[('1003', '120', 'A'), ('1003', '125', 'B'), ('1003', '150', 'A')]"
      ]
     },
     "execution_count": 6,
     "metadata": {},
     "output_type": "execute_result"
    }
   ],
   "source": [
    "%%sql\n",
    "INSERT INTO Enrolled(stid, cid, grade)\n",
    "VALUES  ('1003', '120','A'),\n",
    "        ('1003', '125','B'),\n",
    "        ('1003', '150','A');\n",
    "SELECT * from Enrolled"
   ]
  },
  {
   "cell_type": "code",
   "execution_count": 7,
   "metadata": {},
   "outputs": [
    {
     "name": "stdout",
     "output_type": "stream",
     "text": [
      " * sqlite:///is2.db\n",
      "Done.\n"
     ]
    },
    {
     "data": {
      "text/html": [
       "<table>\n",
       "    <thead>\n",
       "        <tr>\n",
       "            <th>name</th>\n",
       "            <th>cid</th>\n",
       "        </tr>\n",
       "    </thead>\n",
       "    <tbody>\n",
       "        <tr>\n",
       "            <td>Alice</td>\n",
       "            <td>120</td>\n",
       "        </tr>\n",
       "        <tr>\n",
       "            <td>Alice</td>\n",
       "            <td>125</td>\n",
       "        </tr>\n",
       "        <tr>\n",
       "            <td>Alice</td>\n",
       "            <td>150</td>\n",
       "        </tr>\n",
       "    </tbody>\n",
       "</table>"
      ],
      "text/plain": [
       "[('Alice', '120'), ('Alice', '125'), ('Alice', '150')]"
      ]
     },
     "execution_count": 7,
     "metadata": {},
     "output_type": "execute_result"
    }
   ],
   "source": [
    "%%sql\n",
    "SELECT name, cid FROM  Students INNER JOIN Enrolled ON sid = stid;"
   ]
  },
  {
   "cell_type": "markdown",
   "metadata": {},
   "source": [
    "Why do you see each name multiple times?"
   ]
  },
  {
   "cell_type": "markdown",
   "metadata": {},
   "source": [
    "### LEFT Outer Join\n",
    "SQLite does not support the 'RIGHT JOIN' clause and also the 'FULL OUTER JOIN' clause. \n",
    "Therefore, we only try the 'LEFT OUTER JOIN'."
   ]
  },
  {
   "cell_type": "code",
   "execution_count": null,
   "metadata": {
    "scrolled": true
   },
   "outputs": [],
   "source": [
    "%%sql\n",
    "SELECT name,cid FROM  Students LEFT OUTER JOIN Enrolled ON sid = stid;"
   ]
  },
  {
   "cell_type": "markdown",
   "metadata": {},
   "source": [
    "You can implement 'RIGHT OUTER JOIN' by changing the table orders."
   ]
  },
  {
   "cell_type": "code",
   "execution_count": null,
   "metadata": {},
   "outputs": [],
   "source": [
    "%%sql\n",
    "SELECT name, cid FROM Enrolled LEFT OUTER JOIN Students ON sid = stid;"
   ]
  },
  {
   "cell_type": "markdown",
   "metadata": {},
   "source": [
    "And 'FULL OUTER JOIN' by using 'UNION' on the two queries above:"
   ]
  },
  {
   "cell_type": "code",
   "execution_count": null,
   "metadata": {},
   "outputs": [],
   "source": [
    "%%sql\n",
    "SELECT name,cid FROM  Students LEFT OUTER JOIN Enrolled ON sid = stid\n",
    "UNION\n",
    "SELECT name, cid FROM Enrolled LEFT OUTER JOIN Students ON sid = stid;"
   ]
  },
  {
   "cell_type": "markdown",
   "metadata": {},
   "source": [
    "### Distinct"
   ]
  },
  {
   "cell_type": "code",
   "execution_count": null,
   "metadata": {},
   "outputs": [],
   "source": [
    "%%sql\n",
    "SELECT DISTINCT gpa FROM Students;"
   ]
  },
  {
   "cell_type": "markdown",
   "metadata": {},
   "source": [
    "What if you ask for attribute name as well? Would it give you all possible distinct combinations? Or will it select the first student with each distinct gpa value and pass it to you?"
   ]
  },
  {
   "cell_type": "code",
   "execution_count": null,
   "metadata": {},
   "outputs": [],
   "source": [
    "%%sql\n",
    "SELECT DISTINCT gpa, name FROM Students;"
   ]
  },
  {
   "cell_type": "markdown",
   "metadata": {},
   "source": [
    "### Aggregation"
   ]
  },
  {
   "cell_type": "code",
   "execution_count": null,
   "metadata": {
    "scrolled": true
   },
   "outputs": [],
   "source": [
    "%%sql\n",
    "SELECT count(*) FROM Students;"
   ]
  },
  {
   "cell_type": "code",
   "execution_count": null,
   "metadata": {},
   "outputs": [],
   "source": [
    "%%sql\n",
    "SELECT count(DISTINCT gpa) FROM Students;"
   ]
  },
  {
   "cell_type": "code",
   "execution_count": null,
   "metadata": {},
   "outputs": [],
   "source": [
    "%%sql\n",
    "SELECT SUM(gpa) FROM Students;"
   ]
  },
  {
   "cell_type": "code",
   "execution_count": null,
   "metadata": {},
   "outputs": [],
   "source": [
    "%%sql\n",
    "SELECT AVG(gpa) FROM Students;"
   ]
  },
  {
   "cell_type": "code",
   "execution_count": null,
   "metadata": {},
   "outputs": [],
   "source": [
    "%%sql\n",
    "SELECT MIN(gpa) FROM Students;"
   ]
  },
  {
   "cell_type": "code",
   "execution_count": null,
   "metadata": {},
   "outputs": [],
   "source": [
    "%%sql\n",
    "SELECT MAX(gpa) FROM Students"
   ]
  },
  {
   "cell_type": "code",
   "execution_count": null,
   "metadata": {},
   "outputs": [],
   "source": [
    "%%sql\n",
    "SELECT COUNT(DISTINCT gpa) FROM Students;"
   ]
  },
  {
   "cell_type": "code",
   "execution_count": null,
   "metadata": {},
   "outputs": [],
   "source": [
    "%%sql\n",
    "SELECT SUM(DISTINCT gpa) FROM Students;"
   ]
  },
  {
   "cell_type": "code",
   "execution_count": null,
   "metadata": {},
   "outputs": [],
   "source": [
    "%%sql\n",
    "SELECT AVG(gpa) FROM Students WHERE age = 19;"
   ]
  },
  {
   "cell_type": "markdown",
   "metadata": {},
   "source": [
    "Note that incorrect use of aggregations in queries in some RDBMSs might not return Error, but will not results in meaningful or useful answers:"
   ]
  },
  {
   "cell_type": "code",
   "execution_count": null,
   "metadata": {},
   "outputs": [],
   "source": [
    "%%sql\n",
    "SELECT name, AVG(gpa) FROM Students;"
   ]
  },
  {
   "cell_type": "code",
   "execution_count": null,
   "metadata": {},
   "outputs": [],
   "source": [
    "%%sql\n",
    "SELECT name, AVG(DISTINCT gpa) FROM Students;"
   ]
  },
  {
   "cell_type": "code",
   "execution_count": null,
   "metadata": {},
   "outputs": [],
   "source": [
    "%%sql\n",
    "SELECT sid, count(DISTINCT gpa) FROM Students;"
   ]
  },
  {
   "cell_type": "markdown",
   "metadata": {},
   "source": [
    "### Grouping"
   ]
  },
  {
   "cell_type": "code",
   "execution_count": null,
   "metadata": {},
   "outputs": [],
   "source": [
    "%%sql\n",
    "SELECT AVG(gpa) FROM Students GROUP BY age;"
   ]
  },
  {
   "cell_type": "code",
   "execution_count": null,
   "metadata": {},
   "outputs": [],
   "source": [
    "%%sql\n",
    "SELECT age, avg(gpa) FROM Students WHERE gpa > 2.5 GROUP BY age;"
   ]
  },
  {
   "cell_type": "markdown",
   "metadata": {},
   "source": [
    "### Having"
   ]
  },
  {
   "cell_type": "code",
   "execution_count": null,
   "metadata": {},
   "outputs": [],
   "source": [
    "%%sql\n",
    "SELECT AVG(gpa), age\n",
    "FROM Students \n",
    "WHERE gpa > 2.5\n",
    "GROUP BY age\n",
    "HAVING COUNT(*) >= 2;"
   ]
  },
  {
   "cell_type": "code",
   "execution_count": null,
   "metadata": {},
   "outputs": [],
   "source": [
    "%%sql\n",
    "SELECT AVG(gpa), age\n",
    "FROM Students \n",
    "WHERE gpa > 2.5\n",
    "GROUP BY age\n",
    "HAVING age>= 24;"
   ]
  },
  {
   "cell_type": "code",
   "execution_count": null,
   "metadata": {},
   "outputs": [],
   "source": [
    "%%sql\n",
    "SELECT AVG(gpa), age\n",
    "FROM Students \n",
    "WHERE gpa > 2.5\n",
    "GROUP BY age\n",
    "HAVING COUNT(DISTINCT gpa)>= 2;"
   ]
  },
  {
   "cell_type": "markdown",
   "metadata": {},
   "source": [
    "### Additional Practice: SWITCH CASE\n",
    "Using the queries below, try to figure out the format and usage for 'SWITCH CASE'."
   ]
  },
  {
   "cell_type": "code",
   "execution_count": null,
   "metadata": {},
   "outputs": [],
   "source": [
    "%%sql\n",
    "SELECT sid, name,\n",
    "CASE\n",
    "    WHEN gpa >= 3.5 THEN 'A'\n",
    "    WHEN gpa < 3.5 AND gpa >= 3 THEN 'B'\n",
    "    WHEN gpa < 3 AND gpa >= 2.5 THEN 'C'\n",
    "    WHEN gpa < 2.5 AND gpa >= 2 THEN 'D'\n",
    "    When gpa < 2 THEN 'F'\n",
    "END AS lettergrade\n",
    "FROM Students;"
   ]
  },
  {
   "cell_type": "code",
   "execution_count": null,
   "metadata": {},
   "outputs": [],
   "source": [
    "%%sql\n",
    "SELECT sid, name, 'A' AS lettergrade FROM Students WHERE gpa >=3.5\n",
    "UNION\n",
    "SELECT sid, name, 'B' AS lettergrade FROM Students WHERE gpa < 3.5 AND gpa >= 3\n",
    "UNION\n",
    "SELECT sid, name, 'C' AS lettergrade FROM Students WHERE gpa < 3 AND gpa >= 2.5\n",
    "UNION\n",
    "SELECT sid, name, 'D' AS lettergrade FROM Students WHERE gpa < 2.5 AND gpa >= 2\n",
    "UNION\n",
    "SELECT sid, name, 'F' AS lettergrade FROM Students WHERE gpa < 2"
   ]
  },
  {
   "cell_type": "markdown",
   "metadata": {},
   "source": [
    "### Clean up Steps"
   ]
  },
  {
   "cell_type": "code",
   "execution_count": null,
   "metadata": {},
   "outputs": [],
   "source": [
    "%%sql\n",
    "DROP TABLE Enrolled;\n",
    "DROP TABLE Students;"
   ]
  },
  {
   "cell_type": "code",
   "execution_count": null,
   "metadata": {},
   "outputs": [],
   "source": []
  },
  {
   "cell_type": "code",
   "execution_count": null,
   "metadata": {},
   "outputs": [],
   "source": []
  }
 ],
 "metadata": {
  "kernelspec": {
   "display_name": "Python 3 (ipykernel)",
   "language": "python",
   "name": "python3"
  },
  "language_info": {
   "codemirror_mode": {
    "name": "ipython",
    "version": 3
   },
   "file_extension": ".py",
   "mimetype": "text/x-python",
   "name": "python",
   "nbconvert_exporter": "python",
   "pygments_lexer": "ipython3",
   "version": "3.10.9"
  }
 },
 "nbformat": 4,
 "nbformat_minor": 2
}
